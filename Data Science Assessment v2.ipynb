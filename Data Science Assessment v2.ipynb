{
 "cells": [
  {
   "cell_type": "markdown",
   "metadata": {},
   "source": [
    "# RwHealth: Data Science Assessment \n",
    "\n",
    "**Your task:**\n",
    "\n",
    "Using this Inpatient dataset, build 3 machine learning models to predict the likelihood of a readmission. \n",
    "\n",
    "Evaluate each model, and determine which of the models is best.\n",
    "\n",
    "As part of your analysis of the data please include any statistical analysis, plots or data exploration carried out.\n",
    "\n",
    "**Dataset:**\n",
    "\n",
    "Throughout this notebook, you will be using the Inpatient dataset.\n",
    "\n",
    "\n",
    "**Tips:**\n",
    "\n",
    "- Some code is included to get you started in R\n",
    "- If you are doing this in Python please replace and refactor any code\n",
    "- Add markdown cells to this notebook to include explanations  \n",
    "- Include comments in your code\n",
    "- Include plots where appropriate to explain your data and models\n"
   ]
  },
  {
   "cell_type": "markdown",
   "metadata": {
    "ExecuteTime": {
     "end_time": "2021-07-19T12:31:46.660165Z",
     "start_time": "2021-07-19T12:31:46.730Z"
    }
   },
   "source": [
    "# Getting started"
   ]
  },
  {
   "cell_type": "markdown",
   "metadata": {},
   "source": [
    "Now the packages are installed, load them in using them `library()` function."
   ]
  },
  {
   "cell_type": "code",
   "execution_count": null,
   "metadata": {
    "ExecuteTime": {
     "end_time": "2022-05-17T12:26:05.287728Z",
     "start_time": "2022-05-17T12:26:02.421Z"
    }
   },
   "outputs": [],
   "source": [
    "# Load in libraries\n",
    "library(tidyverse)"
   ]
  },
  {
   "cell_type": "markdown",
   "metadata": {},
   "source": [
    "# Data preparation\n",
    "- Load in the `Inpatient.csv` dataset\n",
    "- Include some exploratory analysis\n",
    "- Clean the data by one hot encoding appropriate columns and converting data types where required\n",
    "- Create a test/train split of the data. "
   ]
  },
  {
   "cell_type": "markdown",
   "metadata": {},
   "source": [
    "## Load in data\n",
    "\n",
    "Read in the `Inpatient` dataset. \n"
   ]
  },
  {
   "cell_type": "code",
   "execution_count": null,
   "metadata": {
    "ExecuteTime": {
     "end_time": "2022-05-17T12:25:01.504560Z",
     "start_time": "2022-05-17T12:25:00.014Z"
    }
   },
   "outputs": [],
   "source": [
    "# read in the dataset\n",
    "df <- read.csv(\"https://raw.githubusercontent.com/Draper-Dash/dsp-training/main/Inpatients.csv\", na.strings = \"\")\n"
   ]
  },
  {
   "cell_type": "markdown",
   "metadata": {},
   "source": [
    "This data has 33 columns of data. We can view the structure of the data by using `str()`:"
   ]
  },
  {
   "cell_type": "code",
   "execution_count": null,
   "metadata": {
    "ExecuteTime": {
     "end_time": "2022-05-17T12:25:26.177634Z",
     "start_time": "2022-05-17T12:25:26.049Z"
    }
   },
   "outputs": [],
   "source": [
    "# view a summary of the data using str()\n",
    "str(df)"
   ]
  },
  {
   "cell_type": "markdown",
   "metadata": {
    "ExecuteTime": {
     "end_time": "2021-07-19T13:05:49.278760Z",
     "start_time": "2021-07-19T13:05:49.378Z"
    }
   },
   "source": [
    "## Exploratory analysis"
   ]
  },
  {
   "cell_type": "markdown",
   "metadata": {},
   "source": [
    "Running the code below will plot a grid of histograms which give a good visual summary of the data"
   ]
  },
  {
   "cell_type": "code",
   "execution_count": null,
   "metadata": {
    "ExecuteTime": {
     "end_time": "2022-05-17T12:26:10.506992Z",
     "start_time": "2022-05-17T12:26:09.406Z"
    }
   },
   "outputs": [],
   "source": [
    "# sets the heigth and width of the plot\n",
    "options(repr.plot.width=15, repr.plot.height=10)\n",
    "\n",
    "# create a facet plot for all numerical columns\n",
    "df %>%\n",
    "  keep(is.numeric) %>% \n",
    "  pivot_longer(cols = everything())  %>%   # Convert to name-value pairs\n",
    "  ggplot(aes(value)) +                     # Plot the values\n",
    "    facet_wrap(~ name, scales = \"free\") +  # in separate panels\n",
    "    geom_histogram()  +                    # as histogram\n",
    "    theme_minimal() +\n",
    "    theme(text = element_text(size=20))"
   ]
  },
  {
   "cell_type": "code",
   "execution_count": null,
   "metadata": {},
   "outputs": [],
   "source": [
    "# your code & commentary here..."
   ]
  },
  {
   "cell_type": "markdown",
   "metadata": {},
   "source": [
    "# Conclusion\n",
    "\n",
    "- What insights do these models give? \n",
    "- Which model is best?\n",
    "- How might you improve your analysis?"
   ]
  },
  {
   "cell_type": "code",
   "execution_count": null,
   "metadata": {},
   "outputs": [],
   "source": [
    "# your code here..."
   ]
  }
 ],
 "metadata": {
  "hide_input": false,
  "kernelspec": {
   "display_name": "R",
   "language": "R",
   "name": "ir"
  },
  "language_info": {
   "codemirror_mode": "r",
   "file_extension": ".r",
   "mimetype": "text/x-r-source",
   "name": "R",
   "pygments_lexer": "r",
   "version": "4.1.2"
  },
  "toc": {
   "base_numbering": 1,
   "nav_menu": {},
   "number_sections": true,
   "sideBar": true,
   "skip_h1_title": false,
   "title_cell": "Table of Contents",
   "title_sidebar": "Contents",
   "toc_cell": false,
   "toc_position": {
    "height": "calc(100% - 180px)",
    "left": "10px",
    "top": "150px",
    "width": "248.958px"
   },
   "toc_section_display": true,
   "toc_window_display": false
  },
  "varInspector": {
   "cols": {
    "lenName": 16,
    "lenType": 16,
    "lenVar": 40
   },
   "kernels_config": {
    "python": {
     "delete_cmd_postfix": "",
     "delete_cmd_prefix": "del ",
     "library": "var_list.py",
     "varRefreshCmd": "print(var_dic_list())"
    },
    "r": {
     "delete_cmd_postfix": ") ",
     "delete_cmd_prefix": "rm(",
     "library": "var_list.r",
     "varRefreshCmd": "cat(var_dic_list()) "
    }
   },
   "oldHeight": 307.219,
   "position": {
    "height": "40px",
    "left": "1985.64px",
    "right": "20px",
    "top": "131.988px",
    "width": "350px"
   },
   "types_to_exclude": [
    "module",
    "function",
    "builtin_function_or_method",
    "instance",
    "_Feature"
   ],
   "varInspector_section_display": "none",
   "window_display": true
  }
 },
 "nbformat": 4,
 "nbformat_minor": 4
}
